{
 "cells": [
  {
   "cell_type": "code",
   "execution_count": 6,
   "metadata": {},
   "outputs": [
    {
     "name": "stdout",
     "output_type": "stream",
     "text": [
      "Note: you may need to restart the kernel to use updated packages.Requirement already satisfied: tensorflow in c:\\users\\sahil naidu\\anaconda3\\lib\\site-packages (2.15.0)\n",
      "Requirement already satisfied: tensorflow-intel==2.15.0 in c:\\users\\sahil naidu\\anaconda3\\lib\\site-packages (from tensorflow) (2.15.0)\n",
      "Requirement already satisfied: typing-extensions>=3.6.6 in c:\\users\\sahil naidu\\anaconda3\\lib\\site-packages (from tensorflow-intel==2.15.0->tensorflow) (4.3.0)\n",
      "Requirement already satisfied: astunparse>=1.6.0 in c:\\users\\sahil naidu\\anaconda3\\lib\\site-packages (from tensorflow-intel==2.15.0->tensorflow) (1.6.3)\n",
      "Requirement already satisfied: tensorboard<2.16,>=2.15 in c:\\users\\sahil naidu\\anaconda3\\lib\\site-packages (from tensorflow-intel==2.15.0->tensorflow) (2.15.2)\n",
      "Requirement already satisfied: h5py>=2.9.0 in c:\\users\\sahil naidu\\anaconda3\\lib\\site-packages (from tensorflow-intel==2.15.0->tensorflow) (3.7.0)\n",
      "Requirement already satisfied: opt-einsum>=2.3.2 in c:\\users\\sahil naidu\\anaconda3\\lib\\site-packages (from tensorflow-intel==2.15.0->tensorflow) (3.3.0)\n",
      "Requirement already satisfied: termcolor>=1.1.0 in c:\\users\\sahil naidu\\anaconda3\\lib\\site-packages (from tensorflow-intel==2.15.0->tensorflow) (2.4.0)\n",
      "Requirement already satisfied: packaging in c:\\users\\sahil naidu\\anaconda3\\lib\\site-packages (from tensorflow-intel==2.15.0->tensorflow) (21.3)\n",
      "Requirement already satisfied: setuptools in c:\\users\\sahil naidu\\anaconda3\\lib\\site-packages (from tensorflow-intel==2.15.0->tensorflow) (63.4.1)\n",
      "Requirement already satisfied: tensorflow-estimator<2.16,>=2.15.0 in c:\\users\\sahil naidu\\anaconda3\\lib\\site-packages (from tensorflow-intel==2.15.0->tensorflow) (2.15.0)\n",
      "Requirement already satisfied: tensorflow-io-gcs-filesystem>=0.23.1 in c:\\users\\sahil naidu\\anaconda3\\lib\\site-packages (from tensorflow-intel==2.15.0->tensorflow) (0.31.0)\n",
      "Requirement already satisfied: ml-dtypes~=0.2.0 in c:\\users\\sahil naidu\\anaconda3\\lib\\site-packages (from tensorflow-intel==2.15.0->tensorflow) (0.2.0)\n",
      "Requirement already satisfied: gast!=0.5.0,!=0.5.1,!=0.5.2,>=0.2.1 in c:\\users\\sahil naidu\\anaconda3\\lib\\site-packages (from tensorflow-intel==2.15.0->tensorflow) (0.5.4)\n",
      "Requirement already satisfied: google-pasta>=0.1.1 in c:\\users\\sahil naidu\\anaconda3\\lib\\site-packages (from tensorflow-intel==2.15.0->tensorflow) (0.2.0)\n",
      "Requirement already satisfied: flatbuffers>=23.5.26 in c:\\users\\sahil naidu\\anaconda3\\lib\\site-packages (from tensorflow-intel==2.15.0->tensorflow) (23.5.26)\n",
      "Requirement already satisfied: libclang>=13.0.0 in c:\\users\\sahil naidu\\anaconda3\\lib\\site-packages (from tensorflow-intel==2.15.0->tensorflow) (16.0.6)\n",
      "Requirement already satisfied: wrapt<1.15,>=1.11.0 in c:\\users\\sahil naidu\\anaconda3\\lib\\site-packages (from tensorflow-intel==2.15.0->tensorflow) (1.14.1)\n",
      "Requirement already satisfied: six>=1.12.0 in c:\\users\\sahil naidu\\anaconda3\\lib\\site-packages (from tensorflow-intel==2.15.0->tensorflow) (1.16.0)\n",
      "Requirement already satisfied: absl-py>=1.0.0 in c:\\users\\sahil naidu\\anaconda3\\lib\\site-packages (from tensorflow-intel==2.15.0->tensorflow) (2.1.0)\n",
      "Requirement already satisfied: numpy<2.0.0,>=1.23.5 in c:\\users\\sahil naidu\\anaconda3\\lib\\site-packages (from tensorflow-intel==2.15.0->tensorflow) (1.26.4)\n",
      "Requirement already satisfied: grpcio<2.0,>=1.24.3 in c:\\users\\sahil naidu\\anaconda3\\lib\\site-packages (from tensorflow-intel==2.15.0->tensorflow) (1.62.0)\n",
      "Requirement already satisfied: protobuf!=4.21.0,!=4.21.1,!=4.21.2,!=4.21.3,!=4.21.4,!=4.21.5,<5.0.0dev,>=3.20.3 in c:\\users\\sahil naidu\\anaconda3\\lib\\site-packages (from tensorflow-intel==2.15.0->tensorflow) (4.25.3)\n",
      "Requirement already satisfied: keras<2.16,>=2.15.0 in c:\\users\\sahil naidu\\anaconda3\\lib\\site-packages (from tensorflow-intel==2.15.0->tensorflow) (2.15.0)\n",
      "Requirement already satisfied: wheel<1.0,>=0.23.0 in c:\\users\\sahil naidu\\anaconda3\\lib\\site-packages (from astunparse>=1.6.0->tensorflow-intel==2.15.0->tensorflow) (0.37.1)\n",
      "Requirement already satisfied: tensorboard-data-server<0.8.0,>=0.7.0 in c:\\users\\sahil naidu\\anaconda3\\lib\\site-packages (from tensorboard<2.16,>=2.15->tensorflow-intel==2.15.0->tensorflow) (0.7.2)\n",
      "Requirement already satisfied: requests<3,>=2.21.0 in c:\\users\\sahil naidu\\anaconda3\\lib\\site-packages (from tensorboard<2.16,>=2.15->tensorflow-intel==2.15.0->tensorflow) (2.28.1)\n",
      "Requirement already satisfied: google-auth<3,>=1.6.3 in c:\\users\\sahil naidu\\anaconda3\\lib\\site-packages (from tensorboard<2.16,>=2.15->tensorflow-intel==2.15.0->tensorflow) (2.28.1)\n",
      "Requirement already satisfied: markdown>=2.6.8 in c:\\users\\sahil naidu\\anaconda3\\lib\\site-packages (from tensorboard<2.16,>=2.15->tensorflow-intel==2.15.0->tensorflow) (3.3.4)\n",
      "Requirement already satisfied: google-auth-oauthlib<2,>=0.5 in c:\\users\\sahil naidu\\anaconda3\\lib\\site-packages (from tensorboard<2.16,>=2.15->tensorflow-intel==2.15.0->tensorflow) (1.2.0)\n",
      "Requirement already satisfied: werkzeug>=1.0.1 in c:\\users\\sahil naidu\\anaconda3\\lib\\site-packages (from tensorboard<2.16,>=2.15->tensorflow-intel==2.15.0->tensorflow) (2.0.3)\n",
      "Requirement already satisfied: pyparsing!=3.0.5,>=2.0.2 in c:\\users\\sahil naidu\\anaconda3\\lib\\site-packages (from packaging->tensorflow-intel==2.15.0->tensorflow) (3.0.9)\n",
      "Requirement already satisfied: cachetools<6.0,>=2.0.0 in c:\\users\\sahil naidu\\anaconda3\\lib\\site-packages (from google-auth<3,>=1.6.3->tensorboard<2.16,>=2.15->tensorflow-intel==2.15.0->tensorflow) (5.3.2)\n",
      "Requirement already satisfied: rsa<5,>=3.1.4 in c:\\users\\sahil naidu\\anaconda3\\lib\\site-packages (from google-auth<3,>=1.6.3->tensorboard<2.16,>=2.15->tensorflow-intel==2.15.0->tensorflow) (4.9)\n",
      "Requirement already satisfied: pyasn1-modules>=0.2.1 in c:\\users\\sahil naidu\\anaconda3\\lib\\site-packages (from google-auth<3,>=1.6.3->tensorboard<2.16,>=2.15->tensorflow-intel==2.15.0->tensorflow) (0.2.8)\n",
      "Requirement already satisfied: requests-oauthlib>=0.7.0 in c:\\users\\sahil naidu\\anaconda3\\lib\\site-packages (from google-auth-oauthlib<2,>=0.5->tensorboard<2.16,>=2.15->tensorflow-intel==2.15.0->tensorflow) (1.3.1)\n",
      "Requirement already satisfied: idna<4,>=2.5 in c:\\users\\sahil naidu\\anaconda3\\lib\\site-packages (from requests<3,>=2.21.0->tensorboard<2.16,>=2.15->tensorflow-intel==2.15.0->tensorflow) (3.3)\n",
      "Requirement already satisfied: urllib3<1.27,>=1.21.1 in c:\\users\\sahil naidu\\anaconda3\\lib\\site-packages (from requests<3,>=2.21.0->tensorboard<2.16,>=2.15->tensorflow-intel==2.15.0->tensorflow) (1.26.11)\n",
      "Requirement already satisfied: charset-normalizer<3,>=2 in c:\\users\\sahil naidu\\anaconda3\\lib\\site-packages (from requests<3,>=2.21.0->tensorboard<2.16,>=2.15->tensorflow-intel==2.15.0->tensorflow) (2.0.4)\n",
      "Requirement already satisfied: certifi>=2017.4.17 in c:\\users\\sahil naidu\\anaconda3\\lib\\site-packages (from requests<3,>=2.21.0->tensorboard<2.16,>=2.15->tensorflow-intel==2.15.0->tensorflow) (2022.9.14)\n",
      "Requirement already satisfied: pyasn1<0.5.0,>=0.4.6 in c:\\users\\sahil naidu\\anaconda3\\lib\\site-packages (from pyasn1-modules>=0.2.1->google-auth<3,>=1.6.3->tensorboard<2.16,>=2.15->tensorflow-intel==2.15.0->tensorflow) (0.4.8)\n",
      "Requirement already satisfied: oauthlib>=3.0.0 in c:\\users\\sahil naidu\\anaconda3\\lib\\site-packages (from requests-oauthlib>=0.7.0->google-auth-oauthlib<2,>=0.5->tensorboard<2.16,>=2.15->tensorflow-intel==2.15.0->tensorflow) (3.2.2)\n",
      "\n"
     ]
    }
   ],
   "source": [
    "pip install tensorflow"
   ]
  },
  {
   "cell_type": "code",
   "execution_count": 7,
   "metadata": {},
   "outputs": [
    {
     "name": "stdout",
     "output_type": "stream",
     "text": [
      "Requirement already satisfied: keras in c:\\users\\sahil naidu\\anaconda3\\lib\\site-packages (2.15.0)Note: you may need to restart the kernel to use updated packages.\n",
      "\n"
     ]
    }
   ],
   "source": [
    "pip install keras"
   ]
  },
  {
   "cell_type": "code",
   "execution_count": 3,
   "metadata": {
    "colab": {
     "base_uri": "https://localhost:8080/"
    },
    "id": "y4L_fzJgzQtE",
    "outputId": "13d9b3ac-46e1-4f61-86b0-fb5ea12a609d"
   },
   "outputs": [
    {
     "name": "stdout",
     "output_type": "stream",
     "text": [
      "WARNING:tensorflow:From C:\\Users\\SAHIL NAIDU\\anaconda3\\lib\\site-packages\\keras\\src\\backend.py:873: The name tf.get_default_graph is deprecated. Please use tf.compat.v1.get_default_graph instead.\n",
      "\n",
      "WARNING:tensorflow:From C:\\Users\\SAHIL NAIDU\\anaconda3\\lib\\site-packages\\keras\\src\\optimizers\\__init__.py:309: The name tf.train.Optimizer is deprecated. Please use tf.compat.v1.train.Optimizer instead.\n",
      "\n",
      "WARNING:tensorflow:From C:\\Users\\SAHIL NAIDU\\anaconda3\\lib\\site-packages\\keras\\src\\utils\\tf_utils.py:492: The name tf.ragged.RaggedTensorValue is deprecated. Please use tf.compat.v1.ragged.RaggedTensorValue instead.\n",
      "\n",
      "WARNING:tensorflow:From C:\\Users\\SAHIL NAIDU\\anaconda3\\lib\\site-packages\\keras\\src\\engine\\base_layer_utils.py:384: The name tf.executing_eagerly_outside_functions is deprecated. Please use tf.compat.v1.executing_eagerly_outside_functions instead.\n",
      "\n",
      "291/291 - 22s - loss: 0.8211 - accuracy: 0.6472 - 22s/epoch - 75ms/step\n",
      "144/144 - 2s - loss: 0.7511 - accuracy: 0.6782 - 2s/epoch - 14ms/step\n",
      "0.7511035799980164\n",
      "0.6782437562942505\n",
      "['loss', 'accuracy']\n"
     ]
    }
   ],
   "source": [
    "import pandas as pd # data processing, CSV file I/O (e.g. pd.read_csv)\n",
    "from keras.preprocessing.text import Tokenizer\n",
    "from keras.preprocessing.sequence import pad_sequences\n",
    "from keras.models import Sequential\n",
    "from keras.layers import Dense, Embedding, LSTM, SpatialDropout1D\n",
    "from matplotlib import pyplot\n",
    "from sklearn.model_selection import train_test_split\n",
    "from tensorflow.keras.utils import to_categorical\n",
    "import re\n",
    "\n",
    "from sklearn.preprocessing import LabelEncoder\n",
    "\n",
    "data = pd.read_csv('Sentiment (3).csv')\n",
    "# Keeping only the neccessary columns\n",
    "data = data[['text','sentiment']]\n",
    "\n",
    "data['text'] = data['text'].apply(lambda x: x.lower())\n",
    "data['text'] = data['text'].apply((lambda x: re.sub('[^a-zA-z0-9\\s]', '', x)))\n",
    "\n",
    "for idx, row in data.iterrows():\n",
    "    row[0] = row[0].replace('rt', ' ')\n",
    "\n",
    "max_fatures = 2000\n",
    "tokenizer = Tokenizer(num_words=max_fatures, split=' ')\n",
    "tokenizer.fit_on_texts(data['text'].values)\n",
    "X = tokenizer.texts_to_sequences(data['text'].values)\n",
    "\n",
    "X = pad_sequences(X)\n",
    "\n",
    "embed_dim = 128\n",
    "lstm_out = 196\n",
    "def createmodel():\n",
    "    model = Sequential()\n",
    "    model.add(Embedding(max_fatures, embed_dim,input_length = X.shape[1]))\n",
    "    model.add(LSTM(lstm_out, dropout=0.2, recurrent_dropout=0.2))\n",
    "    model.add(Dense(3,activation='softmax'))\n",
    "    model.compile(loss = 'categorical_crossentropy', optimizer='adam',metrics = ['accuracy'])\n",
    "    return model\n",
    "# print(model.summary())\n",
    "\n",
    "labelencoder = LabelEncoder()\n",
    "integer_encoded = labelencoder.fit_transform(data['sentiment'])\n",
    "y = to_categorical(integer_encoded)\n",
    "X_train, X_test, Y_train, Y_test = train_test_split(X,y, test_size = 0.33, random_state = 42)\n",
    "\n",
    "batch_size = 32\n",
    "model = createmodel()\n",
    "model.fit(X_train, Y_train, epochs = 1, batch_size=batch_size, verbose = 2)\n",
    "score,acc = model.evaluate(X_test,Y_test,verbose=2,batch_size=batch_size)\n",
    "print(score)\n",
    "print(acc)\n",
    "print(model.metrics_names)"
   ]
  },
  {
   "cell_type": "code",
   "execution_count": 4,
   "metadata": {
    "colab": {
     "base_uri": "https://localhost:8080/"
    },
    "id": "F2MFm8GV10gL",
    "outputId": "31b618f9-d189-474d-cffb-8605d2af7a08"
   },
   "outputs": [
    {
     "name": "stderr",
     "output_type": "stream",
     "text": [
      "C:\\Users\\SAHIL NAIDU\\anaconda3\\lib\\site-packages\\keras\\src\\engine\\training.py:3103: UserWarning: You are saving your model as an HDF5 file via `model.save()`. This file format is considered legacy. We recommend using instead the native Keras format, e.g. `model.save('my_model.keras')`.\n",
      "  saving_api.save_model(\n"
     ]
    }
   ],
   "source": [
    "model.save(\"sentiment_model.h5\")"
   ]
  },
  {
   "cell_type": "code",
   "execution_count": 7,
   "metadata": {},
   "outputs": [
    {
     "name": "stdout",
     "output_type": "stream",
     "text": [
      "Collecting tweepyNote: you may need to restart the kernel to use updated packages.\n",
      "\n",
      "  Downloading tweepy-4.14.0-py3-none-any.whl (98 kB)\n",
      "     ---------------------------------------- 98.5/98.5 kB 2.8 MB/s eta 0:00:00\n",
      "Requirement already satisfied: oauthlib<4,>=3.2.0 in c:\\users\\sahil naidu\\anaconda3\\lib\\site-packages (from tweepy) (3.2.2)\n",
      "Requirement already satisfied: requests<3,>=2.27.0 in c:\\users\\sahil naidu\\anaconda3\\lib\\site-packages (from tweepy) (2.28.1)\n",
      "Requirement already satisfied: requests-oauthlib<2,>=1.2.0 in c:\\users\\sahil naidu\\anaconda3\\lib\\site-packages (from tweepy) (1.3.1)\n",
      "Requirement already satisfied: charset-normalizer<3,>=2 in c:\\users\\sahil naidu\\anaconda3\\lib\\site-packages (from requests<3,>=2.27.0->tweepy) (2.0.4)\n",
      "Requirement already satisfied: idna<4,>=2.5 in c:\\users\\sahil naidu\\anaconda3\\lib\\site-packages (from requests<3,>=2.27.0->tweepy) (3.3)\n",
      "Requirement already satisfied: certifi>=2017.4.17 in c:\\users\\sahil naidu\\anaconda3\\lib\\site-packages (from requests<3,>=2.27.0->tweepy) (2022.9.14)\n",
      "Requirement already satisfied: urllib3<1.27,>=1.21.1 in c:\\users\\sahil naidu\\anaconda3\\lib\\site-packages (from requests<3,>=2.27.0->tweepy) (1.26.11)\n",
      "Installing collected packages: tweepy\n",
      "Successfully installed tweepy-4.14.0\n"
     ]
    }
   ],
   "source": [
    "pip install tweepy"
   ]
  },
  {
   "cell_type": "code",
   "execution_count": 8,
   "metadata": {
    "colab": {
     "base_uri": "https://localhost:8080/"
    },
    "id": "tVZ5Mccz1yS3",
    "outputId": "39e1bb3c-b4d4-40c5-8f02-4f853c3106b1"
   },
   "outputs": [
    {
     "name": "stdout",
     "output_type": "stream",
     "text": [
      "1/1 [==============================] - 1s 661ms/step\n",
      "Predicted Sentiment: Negative\n"
     ]
    }
   ],
   "source": [
    "import tweepy\n",
    "from keras.models import load_model\n",
    "from keras.preprocessing.text import Tokenizer\n",
    "from keras.preprocessing.sequence import pad_sequences\n",
    "import re\n",
    "\n",
    "# Load the saved model\n",
    "model = load_model(\"sentiment_model.h5\")\n",
    "\n",
    "# Define a function for preprocessing text\n",
    "def preprocess_text(text):\n",
    "    text = text.lower()\n",
    "    text = re.sub('[^a-zA-z0-9\\s]', '', text)\n",
    "    return text\n",
    "\n",
    "# Example new text data\n",
    "new_text = \"A lot of good things are happening. We are respected again throughout the world, and that's a great thing. @realDonaldTrump\"\n",
    "\n",
    "# Preprocess the new text data\n",
    "new_text = preprocess_text(new_text)\n",
    "\n",
    "# Tokenize and pad the new text data\n",
    "max_fatures = 2000\n",
    "tokenizer = Tokenizer(num_words=max_fatures, split=' ')\n",
    "tokenizer.fit_on_texts([new_text])\n",
    "X_new = tokenizer.texts_to_sequences([new_text])\n",
    "X_new = pad_sequences(X_new, maxlen=model.input_shape[1])\n",
    "\n",
    "# Make predictions\n",
    "predictions = model.predict(X_new)\n",
    "\n",
    "# Determine the sentiment based on the prediction\n",
    "sentiments = ['Negative', 'Neutral', 'Positive']\n",
    "predicted_sentiment = sentiments[predictions.argmax()]\n",
    "\n",
    "# Print the result\n",
    "print(\"Predicted Sentiment: \" + predicted_sentiment)\n"
   ]
  },
  {
   "cell_type": "code",
   "execution_count": 11,
   "metadata": {
    "colab": {
     "base_uri": "https://localhost:8080/"
    },
    "id": "BM8kmaZZ2wFs",
    "outputId": "dc6307de-5254-424e-b692-94eaaeb28b42"
   },
   "outputs": [
    {
     "name": "stdout",
     "output_type": "stream",
     "text": [
      "Collecting scikeras\n",
      "  Using cached scikeras-0.12.0-py3-none-any.whl (27 kB)\n",
      "Requirement already satisfied: packaging>=0.21 in c:\\users\\sahil naidu\\anaconda3\\lib\\site-packages (from scikeras) (21.3)\n",
      "Requirement already satisfied: scikit-learn>=1.0.0 in c:\\users\\sahil naidu\\anaconda3\\lib\\site-packages (from scikeras) (1.0.2)\n",
      "Requirement already satisfied: tensorflow-io-gcs-filesystem<0.32,>=0.23.1 in c:\\users\\sahil naidu\\anaconda3\\lib\\site-packages (from scikeras) (0.31.0)\n",
      "Requirement already satisfied: pyparsing!=3.0.5,>=2.0.2 in c:\\users\\sahil naidu\\anaconda3\\lib\\site-packages (from packaging>=0.21->scikeras) (3.0.9)\n",
      "Requirement already satisfied: scipy>=1.1.0 in c:\\users\\sahil naidu\\anaconda3\\lib\\site-packages (from scikit-learn>=1.0.0->scikeras) (1.9.1)\n",
      "Requirement already satisfied: threadpoolctl>=2.0.0 in c:\\users\\sahil naidu\\anaconda3\\lib\\site-packages (from scikit-learn>=1.0.0->scikeras) (2.2.0)\n",
      "Requirement already satisfied: numpy>=1.14.6 in c:\\users\\sahil naidu\\anaconda3\\lib\\site-packages (from scikit-learn>=1.0.0->scikeras) (1.24.4)\n",
      "Requirement already satisfied: joblib>=0.11 in c:\\users\\sahil naidu\\anaconda3\\lib\\site-packages (from scikit-learn>=1.0.0->scikeras) (1.1.0)\n",
      "Installing collected packages: scikeras\n",
      "Successfully installed scikeras-0.12.0\n",
      "Note: you may need to restart the kernel to use updated packages.\n"
     ]
    }
   ],
   "source": [
    "pip install scikeras"
   ]
  },
  {
   "cell_type": "code",
   "execution_count": 12,
   "metadata": {
    "id": "GC--J1Py20s0"
   },
   "outputs": [],
   "source": [
    "from scikeras.wrappers import KerasClassifier"
   ]
  },
  {
   "cell_type": "code",
   "execution_count": 13,
   "metadata": {
    "colab": {
     "base_uri": "https://localhost:8080/"
    },
    "id": "XKfmgeRl24_-",
    "outputId": "875547de-54ea-4a86-88bc-8b3457be6527"
   },
   "outputs": [
    {
     "name": "stdout",
     "output_type": "stream",
     "text": [
      "194/194 - 13s - loss: 0.8572 - accuracy: 0.6320 - 13s/epoch - 65ms/step\n",
      "97/97 - 1s - 997ms/epoch - 10ms/step\n",
      "194/194 - 14s - loss: 0.8545 - accuracy: 0.6303 - 14s/epoch - 74ms/step\n",
      "97/97 - 2s - 2s/epoch - 16ms/step\n",
      "194/194 - 15s - loss: 0.8536 - accuracy: 0.6322 - 15s/epoch - 79ms/step\n",
      "97/97 - 1s - 1s/epoch - 14ms/step\n",
      "194/194 - 14s - loss: 0.8557 - accuracy: 0.6289 - 14s/epoch - 70ms/step\n",
      "97/97 - 1s - 1s/epoch - 12ms/step\n",
      "194/194 - 14s - loss: 0.8552 - accuracy: 0.6258 - 14s/epoch - 72ms/step\n",
      "97/97 - 1s - 1s/epoch - 12ms/step\n",
      "194/194 - 17s - loss: 0.8602 - accuracy: 0.6280 - 17s/epoch - 90ms/step\n",
      "97/97 - 2s - 2s/epoch - 15ms/step\n",
      "Epoch 1/2\n",
      "194/194 - 15s - loss: 0.8596 - accuracy: 0.6299 - 15s/epoch - 75ms/step\n",
      "Epoch 2/2\n",
      "194/194 - 12s - loss: 0.7118 - accuracy: 0.6936 - 12s/epoch - 60ms/step\n",
      "97/97 - 1s - 1s/epoch - 13ms/step\n",
      "Epoch 1/2\n",
      "194/194 - 15s - loss: 0.8635 - accuracy: 0.6329 - 15s/epoch - 76ms/step\n",
      "Epoch 2/2\n",
      "194/194 - 13s - loss: 0.7085 - accuracy: 0.6951 - 13s/epoch - 65ms/step\n",
      "97/97 - 2s - 2s/epoch - 16ms/step\n",
      "Epoch 1/2\n",
      "194/194 - 15s - loss: 0.8544 - accuracy: 0.6286 - 15s/epoch - 80ms/step\n",
      "Epoch 2/2\n",
      "194/194 - 12s - loss: 0.6855 - accuracy: 0.7063 - 12s/epoch - 62ms/step\n",
      "97/97 - 2s - 2s/epoch - 18ms/step\n",
      "Epoch 1/2\n",
      "194/194 - 14s - loss: 0.8626 - accuracy: 0.6295 - 14s/epoch - 74ms/step\n",
      "Epoch 2/2\n",
      "194/194 - 13s - loss: 0.7132 - accuracy: 0.6927 - 13s/epoch - 65ms/step\n",
      "97/97 - 1s - 1s/epoch - 13ms/step\n",
      "Epoch 1/2\n",
      "194/194 - 15s - loss: 0.8485 - accuracy: 0.6345 - 15s/epoch - 77ms/step\n",
      "Epoch 2/2\n",
      "194/194 - 12s - loss: 0.7015 - accuracy: 0.6983 - 12s/epoch - 62ms/step\n",
      "97/97 - 1s - 1s/epoch - 13ms/step\n",
      "Epoch 1/2\n",
      "194/194 - 15s - loss: 0.8580 - accuracy: 0.6281 - 15s/epoch - 77ms/step\n",
      "Epoch 2/2\n",
      "194/194 - 12s - loss: 0.7019 - accuracy: 0.7000 - 12s/epoch - 61ms/step\n",
      "97/97 - 2s - 2s/epoch - 17ms/step\n",
      "97/97 - 11s - loss: 0.8777 - accuracy: 0.6241 - 11s/epoch - 108ms/step\n",
      "49/49 - 1s - 1s/epoch - 22ms/step\n",
      "97/97 - 11s - loss: 0.8730 - accuracy: 0.6216 - 11s/epoch - 109ms/step\n",
      "49/49 - 1s - 1s/epoch - 21ms/step\n",
      "97/97 - 12s - loss: 0.8732 - accuracy: 0.6223 - 12s/epoch - 121ms/step\n",
      "49/49 - 1s - 1s/epoch - 23ms/step\n",
      "97/97 - 11s - loss: 0.8907 - accuracy: 0.6207 - 11s/epoch - 112ms/step\n",
      "49/49 - 1s - 1s/epoch - 22ms/step\n",
      "97/97 - 11s - loss: 0.8786 - accuracy: 0.6163 - 11s/epoch - 112ms/step\n",
      "49/49 - 1s - 1s/epoch - 24ms/step\n",
      "97/97 - 13s - loss: 0.8729 - accuracy: 0.6248 - 13s/epoch - 135ms/step\n",
      "49/49 - 1s - 1s/epoch - 22ms/step\n",
      "Epoch 1/2\n",
      "97/97 - 11s - loss: 0.8925 - accuracy: 0.6171 - 11s/epoch - 111ms/step\n",
      "Epoch 2/2\n",
      "97/97 - 8s - loss: 0.7407 - accuracy: 0.6817 - 8s/epoch - 86ms/step\n",
      "49/49 - 1s - 972ms/epoch - 20ms/step\n",
      "Epoch 1/2\n",
      "97/97 - 13s - loss: 0.8808 - accuracy: 0.6153 - 13s/epoch - 134ms/step\n",
      "Epoch 2/2\n",
      "97/97 - 9s - loss: 0.7283 - accuracy: 0.6878 - 9s/epoch - 97ms/step\n",
      "49/49 - 2s - 2s/epoch - 31ms/step\n",
      "Epoch 1/2\n",
      "97/97 - 11s - loss: 0.8830 - accuracy: 0.6189 - 11s/epoch - 117ms/step\n",
      "Epoch 2/2\n",
      "97/97 - 9s - loss: 0.7171 - accuracy: 0.6892 - 9s/epoch - 93ms/step\n",
      "49/49 - 1s - 1s/epoch - 24ms/step\n",
      "Epoch 1/2\n",
      "97/97 - 11s - loss: 0.8809 - accuracy: 0.6184 - 11s/epoch - 113ms/step\n",
      "Epoch 2/2\n",
      "97/97 - 9s - loss: 0.7220 - accuracy: 0.6902 - 9s/epoch - 88ms/step\n",
      "49/49 - 1s - 1s/epoch - 22ms/step\n",
      "Epoch 1/2\n",
      "97/97 - 12s - loss: 0.8732 - accuracy: 0.6218 - 12s/epoch - 129ms/step\n",
      "Epoch 2/2\n",
      "97/97 - 9s - loss: 0.7269 - accuracy: 0.6878 - 9s/epoch - 93ms/step\n",
      "49/49 - 1s - 1s/epoch - 28ms/step\n",
      "Epoch 1/2\n",
      "97/97 - 10s - loss: 0.8933 - accuracy: 0.6151 - 10s/epoch - 107ms/step\n",
      "Epoch 2/2\n",
      "97/97 - 9s - loss: 0.7233 - accuracy: 0.6850 - 9s/epoch - 91ms/step\n",
      "49/49 - 1s - 1s/epoch - 24ms/step\n",
      "Epoch 1/2\n",
      "146/146 - 18s - loss: 0.8435 - accuracy: 0.6362 - 18s/epoch - 125ms/step\n",
      "Epoch 2/2\n",
      "146/146 - 18s - loss: 0.7037 - accuracy: 0.6982 - 18s/epoch - 125ms/step\n",
      "Best: 0.676208 using {'batch_size': 64, 'epochs': 2, 'optimizer': 'adam'}\n"
     ]
    }
   ],
   "source": [
    "import pandas as pd\n",
    "import re\n",
    "from tensorflow.keras.preprocessing.text import Tokenizer\n",
    "from tensorflow.keras.preprocessing.sequence import pad_sequences\n",
    "from tensorflow.keras.models import Sequential\n",
    "from tensorflow.keras.layers import Dense, Embedding, LSTM, SpatialDropout1D\n",
    "from tensorflow.keras.utils import to_categorical\n",
    "from sklearn.model_selection import train_test_split, GridSearchCV\n",
    "from sklearn.preprocessing import LabelEncoder\n",
    "from scikeras.wrappers import KerasClassifier\n",
    "\n",
    "# Assuming the data loading and preprocessing steps are the same\n",
    "\n",
    "max_features = 2000\n",
    "tokenizer = Tokenizer(num_words=max_features, split=' ')\n",
    "# Assuming tokenizer fitting and text preprocessing is done here\n",
    "\n",
    "def createmodel(optimizer='adam'):\n",
    "    model = Sequential()\n",
    "    model.add(Embedding(max_features, embed_dim, input_length=X.shape[1]))\n",
    "    model.add(SpatialDropout1D(0.2))\n",
    "    model.add(LSTM(lstm_out, dropout=0.2, recurrent_dropout=0.2))\n",
    "    model.add(Dense(3, activation='softmax'))\n",
    "    model.compile(loss='categorical_crossentropy', optimizer=optimizer, metrics=['accuracy'])\n",
    "    return model\n",
    "\n",
    "# Define the KerasClassifier with the build_fn as our model creation function\n",
    "model = KerasClassifier(model=createmodel, verbose=2)\n",
    "\n",
    "# Define hyperparameters to tune\n",
    "param_grid = {\n",
    "    'batch_size': [32, 64],\n",
    "    'epochs': [1, 2],\n",
    "    'optimizer': ['adam', 'rmsprop']\n",
    "}\n",
    "\n",
    "# Initialize GridSearchCV\n",
    "grid = GridSearchCV(estimator=model, param_grid=param_grid, n_jobs=1, cv=3)\n",
    "# Fit GridSearchCV\n",
    "grid_result = grid.fit(X_train, Y_train)\n",
    "\n",
    "# Summarize results\n",
    "print(\"Best: %f using %s\" % (grid_result.best_score_, grid_result.best_params_))\n"
   ]
  },
  {
   "cell_type": "code",
   "execution_count": null,
   "metadata": {},
   "outputs": [],
   "source": []
  }
 ],
 "metadata": {
  "accelerator": "GPU",
  "colab": {
   "gpuType": "T4",
   "provenance": []
  },
  "kernelspec": {
   "display_name": "Python 3 (ipykernel)",
   "language": "python",
   "name": "python3"
  },
  "language_info": {
   "codemirror_mode": {
    "name": "ipython",
    "version": 3
   },
   "file_extension": ".py",
   "mimetype": "text/x-python",
   "name": "python",
   "nbconvert_exporter": "python",
   "pygments_lexer": "ipython3",
   "version": "3.9.13"
  }
 },
 "nbformat": 4,
 "nbformat_minor": 1
}
