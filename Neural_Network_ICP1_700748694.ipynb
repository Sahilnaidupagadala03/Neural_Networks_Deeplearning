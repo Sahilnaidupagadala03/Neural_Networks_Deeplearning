{
 "cells": [
  {
   "cell_type": "code",
   "execution_count": 22,
   "id": "59ed630f",
   "metadata": {},
   "outputs": [
    {
     "name": "stdout",
     "output_type": "stream",
     "text": [
      "Enter the string: python\n",
      "noht\n"
     ]
    }
   ],
   "source": [
    "###### Question1a\n",
    "# Input the string from the console\n",
    "input_string = input(\"Enter the string: \")\n",
    "\n",
    "# Convert the string to a list of characters\n",
    "char_list = list(input_string)\n",
    "\n",
    "# Delete at least 2 characters\n",
    "del char_list[0:2]\n",
    "\n",
    "# Reverse the resultant string\n",
    "result_string = ''.join(reversed(char_list))\n",
    "\n",
    "# Print the result\n",
    "print(result_string)"
   ]
  },
  {
   "cell_type": "code",
   "execution_count": 15,
   "id": "0713fe2f",
   "metadata": {},
   "outputs": [
    {
     "name": "stdout",
     "output_type": "stream",
     "text": [
      "Enter the first number: 4\n",
      "Enter the second number: 5\n",
      "Sum: 9.0\n",
      "Difference: -1.0\n",
      "Product: 20.0\n",
      "Division: 0.8\n"
     ]
    }
   ],
   "source": [
    "####### Question1b\n",
    "# Input from the user\n",
    "num1 = float(input(\"Enter the first number: \"))\n",
    "num2 = float(input(\"Enter the second number: \"))\n",
    "\n",
    "# Perform arithmetic operations\n",
    "sum_result = num1 + num2\n",
    "difference_result = num1 - num2\n",
    "product_result = num1 * num2\n",
    "\n",
    "# ensure num2 != 0\n",
    "if num2 != 0:\n",
    "    division_result = num1 / num2\n",
    "else:\n",
    "    division_result = \"Cannot divide by zero\"\n",
    "\n",
    "# Display the results\n",
    "print(f\"Sum: {sum_result}\")\n",
    "print(f\"Difference: {difference_result}\")\n",
    "print(f\"Product: {product_result}\")\n",
    "print(f\"Division: {division_result}\")\n"
   ]
  },
  {
   "cell_type": "code",
   "execution_count": 17,
   "id": "3f1de58f",
   "metadata": {},
   "outputs": [
    {
     "name": "stdout",
     "output_type": "stream",
     "text": [
      "Enter a sentence: I love playing with python\n",
      "Modified sentence: I love playing with pythons\n"
     ]
    }
   ],
   "source": [
    "##### Question2\n",
    "# Input from the user\n",
    "sentence = input(\"Enter a sentence: \")\n",
    "\n",
    "# Replacing 'python' with 'pythons'\n",
    "modified_sentence = sentence.replace('python', 'pythons')\n",
    "\n",
    "# Display the modified sentence\n",
    "print(\"Modified sentence:\", modified_sentence)"
   ]
  },
  {
   "cell_type": "code",
   "execution_count": 20,
   "id": "a3aa6881",
   "metadata": {},
   "outputs": [
    {
     "name": "stdout",
     "output_type": "stream",
     "text": [
      "Enter the class score: 80\n",
      "The letter grade for the class score 80.0 is: B\n"
     ]
    }
   ],
   "source": [
    "##### Question3\n",
    "# Input from the user\n",
    "class_score = float(input(\"Enter the class score: \"))\n",
    "\n",
    "# Determine the letter grade based on the grading scale\n",
    "if 90 <= class_score <= 100:\n",
    "    grade = \"A\"\n",
    "elif 80 <= class_score < 90:\n",
    "    grade = \"B\"\n",
    "elif 70 <= class_score < 80:\n",
    "    grade = \"C\"\n",
    "elif 60 <= class_score < 70:\n",
    "    grade = \"D\"\n",
    "elif 0 <= class_score < 60:\n",
    "    grade = \"F\"\n",
    "else:\n",
    "    grade = \"Invalid score\"\n",
    "\n",
    "# Display the letter grade\n",
    "print(f\"The letter grade for the class score {class_score} is: {grade}\")"
   ]
  },
  {
   "cell_type": "code",
   "execution_count": null,
   "id": "44fc3fdc",
   "metadata": {},
   "outputs": [],
   "source": []
  },
  {
   "cell_type": "code",
   "execution_count": null,
   "id": "ec17917b",
   "metadata": {},
   "outputs": [],
   "source": []
  }
 ],
 "metadata": {
  "kernelspec": {
   "display_name": "Python 3 (ipykernel)",
   "language": "python",
   "name": "python3"
  },
  "language_info": {
   "codemirror_mode": {
    "name": "ipython",
    "version": 3
   },
   "file_extension": ".py",
   "mimetype": "text/x-python",
   "name": "python",
   "nbconvert_exporter": "python",
   "pygments_lexer": "ipython3",
   "version": "3.9.13"
  }
 },
 "nbformat": 4,
 "nbformat_minor": 5
}
