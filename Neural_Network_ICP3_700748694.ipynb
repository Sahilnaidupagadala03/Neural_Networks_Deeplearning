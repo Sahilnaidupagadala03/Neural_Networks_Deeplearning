{
 "cells": [
  {
   "cell_type": "code",
   "execution_count": 7,
   "id": "122914b0",
   "metadata": {},
   "outputs": [
    {
     "name": "stdout",
     "output_type": "stream",
     "text": [
      "Some benefits as a full-time employee.\n",
      "Some benefits as a full-time employee.\n",
      "The Average Salary: 247500.0\n"
     ]
    }
   ],
   "source": [
    "# Question 1\n",
    "\n",
    "class Employee:\n",
    "    total_employees = 0  # Data member to count the number of Employees\n",
    "\n",
    "    def __init__(self, name, family, salary, department):\n",
    "        self.name = name\n",
    "        self.family_name = family\n",
    "        self.salary = salary\n",
    "        self.department = department\n",
    "        Employee.total_employees += 1\n",
    "\n",
    "    @staticmethod\n",
    "    def calculate_average_salary(employees):\n",
    "        total_salary = sum(employee.salary for employee in employees)\n",
    "        return total_salary / len(employees)\n",
    "\n",
    "\n",
    "class FullTimeEmployee(Employee):\n",
    "    def __init__(self, name, family, salary, department):\n",
    "        super().__init__(name, family, salary, department)\n",
    "\n",
    "    def display_fulltime_benefits(self):\n",
    "        print(\"Some benefits as a full-time employee.\")\n",
    "\n",
    "\n",
    "def main():\n",
    "    employees_list = []\n",
    "\n",
    "    fulltime_employee1 = FullTimeEmployee(\"Sahil Naidu\", \"Pagadala\", 50000, \"Engineering\")\n",
    "    fulltime_employee1.display_fulltime_benefits()\n",
    "    employees_list.append(fulltime_employee1)\n",
    "\n",
    "    fulltime_employee2 = FullTimeEmployee(\"Krishna Reddy\", \"Paravata\", 800000, \"Psychology\")\n",
    "    fulltime_employee2.display_fulltime_benefits()\n",
    "    employees_list.append(fulltime_employee2)\n",
    "\n",
    "    employee1 = Employee(\"Naveen Reddy\", \"Mukku\", 30000, \"Business\")\n",
    "    employees_list.append(employee1)\n",
    "\n",
    "    employee2 = Employee(\"Bhagath Chandra\", \"Kanna\", 110000, \"VLSI\")\n",
    "    employees_list.append(employee2)\n",
    "\n",
    "    average_salary = FullTimeEmployee.calculate_average_salary(employees_list)\n",
    "    print(\"The Average Salary:\", average_salary)\n",
    "\n",
    "\n",
    "if __name__ == \"__main__\":\n",
    "    main()\n"
   ]
  },
  {
   "cell_type": "code",
   "execution_count": 8,
   "id": "97c03413",
   "metadata": {},
   "outputs": [
    {
     "name": "stdout",
     "output_type": "stream",
     "text": [
      "Original Array:  [ 8.54520463 16.79669917  4.15124236 15.49002612 15.4560829  10.17836187\n",
      " 12.29046911 11.6492736   3.97771993  8.709567    9.7912517   5.84388468\n",
      " 15.82665367 15.65586914  2.0641373  14.46264139 14.11160078 16.83318145\n",
      " 14.62757201  6.5662915 ]\n",
      "\n",
      "Reshaped Array:  [[ 8.54520463 16.79669917  4.15124236 15.49002612 15.4560829 ]\n",
      " [10.17836187 12.29046911 11.6492736   3.97771993  8.709567  ]\n",
      " [ 9.7912517   5.84388468 15.82665367 15.65586914  2.0641373 ]\n",
      " [14.46264139 14.11160078 16.83318145 14.62757201  6.5662915 ]]\n",
      "\n",
      "Array after replacing the maximum in each row by 0: [[ 8.54520463  0.          4.15124236 15.49002612 15.4560829 ]\n",
      " [10.17836187  0.         11.6492736   3.97771993  8.709567  ]\n",
      " [ 9.7912517   5.84388468  0.         15.65586914  2.0641373 ]\n",
      " [14.46264139 14.11160078  0.         14.62757201  6.5662915 ]]\n"
     ]
    }
   ],
   "source": [
    "# Question 2\n",
    "\n",
    "import numpy as np\n",
    "\n",
    "# Generate a random 1D array\n",
    "x = np.random.uniform(1, 20, 20)\n",
    "print(\"Original Array: \", x)\n",
    "\n",
    "# Reshape the array into a 2D array with 4 rows and 5 columns\n",
    "newarr = x.reshape(4, 5)\n",
    "print(\"\\nReshaped Array: \", newarr)\n",
    "\n",
    "# Find the indices of the maximum values in each row\n",
    "max_indices = np.argmax(newarr, axis=1)\n",
    "\n",
    "# Replace the maximum values in each row with 0 using fancy indexing\n",
    "newarr1 = newarr.copy()\n",
    "newarr1[np.arange(newarr.shape[0]), max_indices] = 0\n",
    "\n",
    "print(\"\\nArray after replacing the maximum in each row by 0:\", newarr1)"
   ]
  },
  {
   "cell_type": "code",
   "execution_count": null,
   "id": "abcd0d50",
   "metadata": {},
   "outputs": [],
   "source": []
  }
 ],
 "metadata": {
  "kernelspec": {
   "display_name": "Python 3 (ipykernel)",
   "language": "python",
   "name": "python3"
  },
  "language_info": {
   "codemirror_mode": {
    "name": "ipython",
    "version": 3
   },
   "file_extension": ".py",
   "mimetype": "text/x-python",
   "name": "python",
   "nbconvert_exporter": "python",
   "pygments_lexer": "ipython3",
   "version": "3.9.13"
  }
 },
 "nbformat": 4,
 "nbformat_minor": 5
}
