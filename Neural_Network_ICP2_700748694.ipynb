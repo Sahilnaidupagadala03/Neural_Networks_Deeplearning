{
 "cells": [
  {
   "cell_type": "code",
   "execution_count": 10,
   "id": "8a303966",
   "metadata": {},
   "outputs": [
    {
     "name": "stdout",
     "output_type": "stream",
     "text": [
      "Enter your first name: Sahil Naidu\n",
      "Enter your last name: Pagadala\n",
      "Your full name is: Sahil Naidu Pagadala\n"
     ]
    }
   ],
   "source": [
    "# Question 1a\n",
    "\n",
    "def fullname(first_name, last_name):\n",
    "    full_name = first_name + \" \" + last_name\n",
    "    return full_name\n",
    "\n",
    "# Taking input from the user\n",
    "first_name = input(\"Enter your first name: \")\n",
    "last_name = input(\"Enter your last name: \")\n",
    "\n",
    "# Calling the fullname function\n",
    "result = fullname(first_name, last_name)\n",
    "\n",
    "# Displaying the result\n",
    "print(\"Your full name is:\", result)"
   ]
  },
  {
   "cell_type": "code",
   "execution_count": 12,
   "id": "774cdca7",
   "metadata": {},
   "outputs": [
    {
     "name": "stdout",
     "output_type": "stream",
     "text": [
      "Input:  Sahil Naidu Pagadala\n",
      "Output: ShlNiuPgdl\n"
     ]
    }
   ],
   "source": [
    "# Question 1b\n",
    "\n",
    "def string_alternative(full_name):\n",
    "    return full_name[::2]\n",
    "\n",
    "full_name = result\n",
    "output = string_alternative(full_name)\n",
    "\n",
    "print(\"Input: \", full_name)\n",
    "print(\"Output:\", output)"
   ]
  },
  {
   "cell_type": "code",
   "execution_count": 17,
   "id": "aa62cd08",
   "metadata": {},
   "outputs": [
    {
     "name": "stdout",
     "output_type": "stream",
     "text": [
      "Python: 1\n",
      "Course: 2\n",
      "Deep: 1\n",
      "Learning: 1\n",
      "Output written to output.txt\n"
     ]
    }
   ],
   "source": [
    "# Question 2\n",
    "def wordcount_per_line(input_file, output_file):\n",
    "    try:\n",
    "        with open(input_file, 'r') as file:\n",
    "            lines = file.readlines()\n",
    "\n",
    "        word_count = {}\n",
    "        with open(output_file, 'w') as output_file:\n",
    "            for line in lines:\n",
    "                output_file.write(line)\n",
    "                words = line.split()\n",
    "                for word in words:\n",
    "                    word = word.strip(',:.?!')  # Remove common punctuation\n",
    "                    if word not in word_count:\n",
    "                        word_count[word] = 1\n",
    "                    else:\n",
    "                        word_count[word] += 1\n",
    "\n",
    "            output_file.write(\"\\nWord_Count:\\n\")\n",
    "            for word, count in word_count.items():\n",
    "                output_line = f\"{word}: {count}\\n\"\n",
    "                print(output_line, end='')\n",
    "                output_file.write(output_line)\n",
    "\n",
    "        print(\"Output written to\", output_file.name)\n",
    "\n",
    "    except FileNotFoundError:\n",
    "        print(\"Error: Input file not found.\")\n",
    "\n",
    "# Specifying the input and output file names\n",
    "input_file_name = \"input.txt\"\n",
    "output_file_name = \"output.txt\"\n",
    "\n",
    "# Call the function with the specified file names\n",
    "wordcount_per_line(input_file_name, output_file_name)\n"
   ]
  },
  {
   "cell_type": "code",
   "execution_count": 25,
   "id": "a4c0f063",
   "metadata": {},
   "outputs": [
    {
     "name": "stdout",
     "output_type": "stream",
     "text": [
      "Enter the number of customers: 4\n",
      "Enter height in inches for customer 1: 150\n",
      "Enter height in inches for customer 2: 155\n",
      "Enter height in inches for customer 3: 148\n",
      "Enter height in inches for customer 4: 145\n",
      "\n",
      "L1 [150.0, 155.0, 148.0, 145.0]\n",
      "Output:  [381.0, 393.7, 375.92, 368.3]\n"
     ]
    }
   ],
   "source": [
    "# Question 3a \n",
    "# Function to convert inches to centimeters\n",
    "def inches_to_centimeters(inches):\n",
    "    return inches * 2.54\n",
    "\n",
    "# Initializing empty lists for heights in inches and centimeters\n",
    "heights_inches = []\n",
    "heights_centimeters = []\n",
    "\n",
    "# Prompt the user to enter the number of customers\n",
    "num_customers = int(input(\"Enter the number of customers: \"))\n",
    "\n",
    "# Nested loop to input heights in inches and convert to centimeters\n",
    "for i in range(num_customers):\n",
    "    while True:\n",
    "        try:\n",
    "            # Input height in inches\n",
    "            height_inch = float(input(f\"Enter height in inches for customer {i + 1}: \"))\n",
    "            \n",
    "            # Convert to centimeters and add to the lists\n",
    "            height_cm = inches_to_centimeters(height_inch)\n",
    "            heights_inches.append(height_inch)\n",
    "            heights_centimeters.append(height_cm)\n",
    "            \n",
    "            break\n",
    "        except ValueError:\n",
    "            print(\"Invalid input. Please enter a valid number for height.\")\n",
    "\n",
    "# Display the input heights in inches\n",
    "print(\"\\nL1\", heights_inches)\n",
    "\n",
    "# Display the converted heights in centimeters\n",
    "print(\"Output: \", [round(cm, 2) for cm in heights_centimeters])\n"
   ]
  },
  {
   "cell_type": "code",
   "execution_count": 26,
   "id": "e6cb1487",
   "metadata": {},
   "outputs": [
    {
     "name": "stdout",
     "output_type": "stream",
     "text": [
      "L1 [150, 155, 145, 148]\n",
      "Output:  [381.0, 393.7, 368.3, 375.92]\n"
     ]
    }
   ],
   "source": [
    "# Question 3b\n",
    "heights=[150,155, 145, 148]\n",
    "print(\"L1\",heights)\n",
    "newlist=[each_value_in_list*2.54 for each_value_in_list in heights]\n",
    "print(\"Output: \",newlist)\n"
   ]
  },
  {
   "cell_type": "code",
   "execution_count": null,
   "id": "fd889948",
   "metadata": {},
   "outputs": [],
   "source": []
  }
 ],
 "metadata": {
  "kernelspec": {
   "display_name": "Python 3 (ipykernel)",
   "language": "python",
   "name": "python3"
  },
  "language_info": {
   "codemirror_mode": {
    "name": "ipython",
    "version": 3
   },
   "file_extension": ".py",
   "mimetype": "text/x-python",
   "name": "python",
   "nbconvert_exporter": "python",
   "pygments_lexer": "ipython3",
   "version": "3.9.13"
  }
 },
 "nbformat": 4,
 "nbformat_minor": 5
}
